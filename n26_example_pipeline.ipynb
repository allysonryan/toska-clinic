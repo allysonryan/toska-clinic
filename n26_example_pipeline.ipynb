{
 "cells": [
  {
   "cell_type": "code",
   "execution_count": null,
   "id": "56a4360e",
   "metadata": {},
   "outputs": [],
   "source": [
    "from __future__ import division, print_function\n",
    "\n",
    "import os\n",
    "import matplotlib.pyplot as plt\n",
    "from skimage.io import imread, imsave\n",
    "\n",
    "%matplotlib inline\n",
    "\n",
    "from toska_functions import *"
   ]
  },
  {
   "cell_type": "code",
   "execution_count": null,
   "id": "7afccc53",
   "metadata": {},
   "outputs": [],
   "source": [
    "fpath = os.getcwd()\n",
    "fname = r'n26_example_skels.tif'"
   ]
  },
  {
   "cell_type": "code",
   "execution_count": null,
   "id": "c2e60fc6",
   "metadata": {},
   "outputs": [],
   "source": [
    "img = imread(os.path.join(fpath, fname))\n",
    "img.shape"
   ]
  },
  {
   "cell_type": "code",
   "execution_count": null,
   "id": "11ad00e8",
   "metadata": {},
   "outputs": [],
   "source": [
    "skel = img[0,...]\n",
    "\n",
    "plt.figure(figsize = (10,10))\n",
    "plt.imshow(skel.sum(axis = 0).astype(bool))\n",
    "plt.axis('off')\n",
    "plt.show()"
   ]
  },
  {
   "cell_type": "code",
   "execution_count": null,
   "id": "0986487c",
   "metadata": {},
   "outputs": [],
   "source": [
    "coords, e_pts, b_pts, brnch, brnch_ids, brnch_lengths = n26_parse_skel_3d(skel.astype(bool), 0, 1, 2)"
   ]
  },
  {
   "cell_type": "code",
   "execution_count": null,
   "id": "2399e463",
   "metadata": {},
   "outputs": [],
   "source": [
    "coords.shape"
   ]
  },
  {
   "cell_type": "code",
   "execution_count": null,
   "id": "444ecdae",
   "metadata": {},
   "outputs": [],
   "source": [
    "e_pts"
   ]
  },
  {
   "cell_type": "code",
   "execution_count": null,
   "id": "91787f99",
   "metadata": {},
   "outputs": [],
   "source": [
    "b_pts"
   ]
  },
  {
   "cell_type": "code",
   "execution_count": null,
   "id": "bdb9245c",
   "metadata": {},
   "outputs": [],
   "source": [
    "plt.figure(figsize = (10,10))\n",
    "plt.imshow(brnch.sum(axis = 0).astype(bool))\n",
    "plt.axis('off')\n",
    "plt.show()"
   ]
  },
  {
   "cell_type": "code",
   "execution_count": null,
   "id": "04d4ce76",
   "metadata": {},
   "outputs": [],
   "source": [
    "brnch_ids"
   ]
  },
  {
   "cell_type": "code",
   "execution_count": null,
   "id": "0b6042a7",
   "metadata": {},
   "outputs": [],
   "source": [
    "brnch_lengths"
   ]
  },
  {
   "cell_type": "code",
   "execution_count": null,
   "id": "cdb91ef0",
   "metadata": {},
   "outputs": [],
   "source": [
    "bp_img, n_bp = n26_relabel_brnch_pts(b_pts, brnch.shape, brnch.dtype)"
   ]
  },
  {
   "cell_type": "code",
   "execution_count": null,
   "id": "569e2cf3",
   "metadata": {},
   "outputs": [],
   "source": [
    "n_bp"
   ]
  },
  {
   "cell_type": "code",
   "execution_count": null,
   "id": "18cbe9af",
   "metadata": {},
   "outputs": [],
   "source": [
    "adj_mat = n26_adjacency_matrix(e_pts, bp_img, n_bp, brnch, len(brnch_ids))"
   ]
  },
  {
   "cell_type": "code",
   "execution_count": null,
   "id": "df866e9c",
   "metadata": {},
   "outputs": [],
   "source": [
    "adj_mat"
   ]
  },
  {
   "cell_type": "code",
   "execution_count": null,
   "id": "4c2b78b6",
   "metadata": {},
   "outputs": [],
   "source": [
    "nodes, weighted_edges, G = skeleton_network(adj_mat, brnch_lengths)"
   ]
  },
  {
   "cell_type": "code",
   "execution_count": null,
   "id": "f00bfad1",
   "metadata": {},
   "outputs": [],
   "source": [
    "spine_path, spine_length = skeleton_spine_search(nodes, G)"
   ]
  },
  {
   "cell_type": "code",
   "execution_count": null,
   "id": "354f99e7",
   "metadata": {},
   "outputs": [],
   "source": [
    "spine_path"
   ]
  },
  {
   "cell_type": "code",
   "execution_count": null,
   "id": "6865fd8b",
   "metadata": {},
   "outputs": [],
   "source": [
    "spine_length"
   ]
  },
  {
   "cell_type": "code",
   "execution_count": null,
   "id": "ca60fc86",
   "metadata": {},
   "outputs": [],
   "source": [
    "spine_edges = spine_edges(spine_path)"
   ]
  },
  {
   "cell_type": "code",
   "execution_count": null,
   "id": "85960f8c",
   "metadata": {},
   "outputs": [],
   "source": [
    "map_spine_edges = map_spine_edges(spine_edges, adj_mat, brnch_lengths, brnch_ids)"
   ]
  },
  {
   "cell_type": "code",
   "execution_count": null,
   "id": "0e59a85d",
   "metadata": {},
   "outputs": [],
   "source": [
    "map_spine_edges"
   ]
  },
  {
   "cell_type": "code",
   "execution_count": null,
   "id": "a3711031",
   "metadata": {},
   "outputs": [],
   "source": [
    "img_spine = create_spine_img(brnch, map_spine_edges)"
   ]
  },
  {
   "cell_type": "code",
   "execution_count": null,
   "id": "68924cfa",
   "metadata": {},
   "outputs": [],
   "source": [
    "plt.figure(figsize = (10,10))\n",
    "plt.imshow(img_spine.sum(axis = 0))\n",
    "plt.axis('off')\n",
    "plt.show()"
   ]
  }
 ],
 "metadata": {
  "kernelspec": {
   "display_name": "Python 3",
   "language": "python",
   "name": "python3"
  },
  "language_info": {
   "codemirror_mode": {
    "name": "ipython",
    "version": 3
   },
   "file_extension": ".py",
   "mimetype": "text/x-python",
   "name": "python",
   "nbconvert_exporter": "python",
   "pygments_lexer": "ipython3",
   "version": "3.8.0"
  }
 },
 "nbformat": 4,
 "nbformat_minor": 5
}
